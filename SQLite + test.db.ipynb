{
 "cells": [
  {
   "cell_type": "code",
   "execution_count": 2,
   "metadata": {},
   "outputs": [
    {
     "name": "stdout",
     "output_type": "stream",
     "text": [
      "Opened database successfully\n"
     ]
    }
   ],
   "source": [
    "import sqlite3\n",
    "\n",
    "conn = sqlite3.connect('test.db')\n",
    "\n",
    "print (\"Opened database successfully\")"
   ]
  },
  {
   "cell_type": "code",
   "execution_count": 5,
   "metadata": {},
   "outputs": [
    {
     "name": "stdout",
     "output_type": "stream",
     "text": [
      "Table created successfully........\n"
     ]
    }
   ],
   "source": [
    "import sqlite3\n",
    "\n",
    "#Connecting to sqlite\n",
    "conn = sqlite3.connect('test.db')\n",
    "\n",
    "#Creating a cursor object using the cursor() method\n",
    "cursor = conn.cursor()\n",
    "\n",
    "#Doping EMPLOYEE table if already exists.\n",
    "cursor.execute(\"DROP TABLE IF EXISTS EMPLOYEE\")\n",
    "\n",
    "#Creating table as per requirement\n",
    "sql ='''CREATE TABLE EMPLOYEE(\n",
    "   FIRST_NAME CHAR(20) NOT NULL,\n",
    "   LAST_NAME CHAR(20),\n",
    "   AGE INT,\n",
    "   SEX CHAR(1),\n",
    "   INCOME FLOAT\n",
    ")'''\n",
    "cursor.execute(sql)\n",
    "print(\"Table created successfully........\")\n",
    "sql ='''CREATE TABLE fff(\n",
    "   FIRST_NAME CHAR(20) NOT NULL,\n",
    "   LAST_NAME CHAR(20),\n",
    "   AGE INT,\n",
    "   SEX CHAR(1),\n",
    "   INCOME FLOAT\n",
    ")'''\n",
    "cursor.execute(sql)\n",
    "\n",
    "\n",
    "\n",
    "# Commit your changes in the database\n",
    "conn.commit()\n",
    "\n",
    "#Closing the connection\n",
    "conn.close()"
   ]
  },
  {
   "cell_type": "code",
   "execution_count": 10,
   "metadata": {},
   "outputs": [],
   "source": [
    "import pandas as pd\n",
    "xx=pd.read_csv('new1.csv', header= None).values.tolist()"
   ]
  },
  {
   "cell_type": "code",
   "execution_count": null,
   "metadata": {},
   "outputs": [],
   "source": [
    "\n",
    "    "
   ]
  },
  {
   "cell_type": "code",
   "execution_count": 11,
   "metadata": {},
   "outputs": [],
   "source": [
    "def load_data(params):  #create function with attribuutes as parameter for the data that we have in csv\n",
    "    \n",
    "    conn = sqlite3.connect('test.db')\n",
    "\n",
    "    #Creating a cursor object using the cursor() method\n",
    "    cursor = conn.cursor()\n",
    "    sql  = \"\"\" Insert into abc (name,age,salary) values('{0}',{1},{2})\n",
    "        \"\"\".format(params[0],params[1],params[2])\n",
    "    cursor.execute(sql)\n",
    "\n",
    "    conn.commit()\n",
    "\n",
    "    #Closing the connection\n",
    "    conn.close()"
   ]
  },
  {
   "cell_type": "code",
   "execution_count": 12,
   "metadata": {},
   "outputs": [],
   "source": [
    "for i in xx:\n",
    "    load_data(i) # data loaded into this via above function\n"
   ]
  },
  {
   "cell_type": "code",
   "execution_count": 17,
   "metadata": {},
   "outputs": [
    {
     "name": "stdout",
     "output_type": "stream",
     "text": [
      "1('dhruv', 12, 5000, 'dhruv', 12, 5000)\n",
      "2('dhruv', 12, 5000, 'dhruv', 12, 5000)\n",
      "3('dhruv', 12, 5000, 'dhruv', 12, 5000)\n",
      "4('dhruv', 12, 5000, 'dhruv', 12, 5000)\n",
      "5('dhruv', 12, 5000, 'dhruv', 12, 5000)\n",
      "6('dhruv', 12, 5000, 'dhruv', 12, 5000)\n",
      "7('dhruv', 12, 5000, 'dhruv', 12, 5000)\n",
      "8('dhruv', 12, 5000, 'dhruv', 12, 5000)\n",
      "9('dhruv', 12, 5000, 'dhruv', 12, 5000)\n",
      "10('dhruv', 12, 5000, 'dhruv', 12, 5000)\n",
      "11('dhruv', 12, 5000, 'dhruv', 12, 5000)\n",
      "12('dhruv', 12, 5000, 'dhruv', 12, 5000)\n",
      "13('dhruv', 12, 5000, 'dhruv', 12, 5000)\n",
      "14('dhruv', 12, 5000, 'dhruv', 12, 5000)\n",
      "15('dhruv', 12, 5000, 'dhruv', 12, 5000)\n",
      "16('dhruv', 12, 5000, 'dhruv', 12, 5000)\n",
      "17('dhruv', 12, 5000, 'dhruv', 12, 5000)\n",
      "18('dhruv', 12, 5000, 'dhruv', 12, 5000)\n",
      "19('dhruv', 12, 5000, 'dhruv', 12, 5000)\n",
      "20('dhruv', 12, 5000, 'dhruv', 12, 5000)\n",
      "21('dhruv', 12, 5000, 'dhruv', 12, 5000)\n",
      "22('dhruv', 12, 5000, 'dhruv', 12, 5000)\n",
      "23('dhruv', 12, 5000, 'dhruv', 12, 5000)\n",
      "24('dhruv', 12, 5000, 'dhruv', 12, 5000)\n",
      "25('dhruv', 12, 5000, 'dhruv', 12, 5000)\n",
      "26('dhruv', 12, 5000, 'dhruv', 12, 5000)\n",
      "27('dhruv', 12, 5000, 'dhruv', 12, 5000)\n",
      "28('dhruv', 12, 5000, 'dhruv', 12, 5000)\n",
      "29('dhruv', 12, 5000, 'dhruv', 12, 5000)\n",
      "30('dhruv', 12, 5000, 'dhruv', 12, 5000)\n",
      "31('dhruv', 12, 5000, 'dhruv', 12, 5000)\n",
      "32('dhruv', 12, 5000, 'dhruv', 12, 5000)\n",
      "33('dhruv', 12, 5000, 'dhruv', 12, 5000)\n",
      "34('dhruv', 12, 5000, 'dhruv', 12, 5000)\n",
      "35('dhruv', 12, 5000, 'dhruv', 12, 5000)\n",
      "36('dhruv', 12, 5000, 'dhruv', 12, 5000)\n"
     ]
    }
   ],
   "source": [
    "\n",
    "#Connecting to sqlite\n",
    "conn = sqlite3.connect('test.db')\n",
    "\n",
    "#Creating a cursor object using the cursor() method\n",
    "cursor = conn.cursor()\n",
    "\n",
    "#Retrieving data\n",
    "cursor.execute('''SELECT * from abc, abc b''')\n",
    "#Fetching 1st row from the table\n",
    "result = cursor.fetchall();\n",
    "p=1\n",
    "for i in result:\n",
    "    print(p, end='')\n",
    "    print(i)\n",
    "    p+=1;"
   ]
  },
  {
   "cell_type": "code",
   "execution_count": null,
   "metadata": {},
   "outputs": [],
   "source": []
  }
 ],
 "metadata": {
  "kernelspec": {
   "display_name": "Python 3",
   "language": "python",
   "name": "python3"
  },
  "language_info": {
   "codemirror_mode": {
    "name": "ipython",
    "version": 3
   },
   "file_extension": ".py",
   "mimetype": "text/x-python",
   "name": "python",
   "nbconvert_exporter": "python",
   "pygments_lexer": "ipython3",
   "version": "3.7.6"
  }
 },
 "nbformat": 4,
 "nbformat_minor": 4
}
