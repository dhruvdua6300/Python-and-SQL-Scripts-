{
 "cells": [
  {
   "cell_type": "markdown",
   "metadata": {},
   "source": [
    "### Python Vs SQL"
   ]
  },
  {
   "cell_type": "markdown",
   "metadata": {},
   "source": [
    "**Question**\n",
    "\n",
    "You are given a data.csv file in the /root/customers/ directory containing information about your customers.\n",
    "It has the following columns:\n",
    "\n",
    "ID,NAME,CITY,COUNTRY,CPERSON,EMPLCNT,CONTRCNT,CONTRCOST \n",
    "\n",
    "\n",
    "\n",
    "where\n",
    "\n",
    "ID: Unique id of the customer\n",
    "\n",
    "NAME: Official customer company name \n",
    "\n",
    "CITY: Location city name \n",
    "\n",
    "COUNTRY: Location country name \n",
    "\n",
    "CPERSON: Email of the customer company contact person \n",
    "\n",
    "EMPLCNT: Customer company employees number \n",
    "\n",
    "CONTRCNT: Number of contracts signed with the customer \n",
    "\n",
    "CONTRCOST: Total amount of money paid by customer (float in format dollars.cents) \n",
    "\n",
    "\n",
    "\n",
    "Read and analyze the data.csv file, and output the answers to these questions:\n",
    "\n",
    "1. How many total customers are in this data set?\n",
    "2. How many customers are in each city?\n",
    "3. How many customers are in each country?\n",
    "4. Which country has the largest number of customers' contracts signed in it?\n",
    "5. How many contracts does it have?\n",
    "6. How many unique cities have at least one customer in them?\n",
    "\n",
    "\n",
    "*Data Set*\n",
    "\n",
    "ID, NAME, CITY, COUNTRY, CPERSON, EMPLCNT, CONTRCNT, CONTRCOST\n",
    "\n",
    "00000001, Breadpot, Sydney, Australia, sample-email, 20, 100, 100\n",
    "\n",
    "00000002, Hoviz, Manchester, UK, sample-email, 30, 550, 200\n",
    "\n",
    "00000003, Hoviz, London, UK, sample-email, 55, 250, 400\n",
    "\n",
    "00000004, Grenns, London, UK, sample-email, 40, 250, 600\n",
    "\n",
    "00000005, Magnolia, Chicago, USA, sample-email, 50, 400, 200\n",
    "\n",
    "00000006, Dozen, San Francisco, USA, sample-email, 40, 300, 500\n",
    "\n",
    "00000007, Sun, San Francisco, USA, sample-email, 45, 350, 700"
   ]
  },
  {
   "cell_type": "code",
   "execution_count": 86,
   "metadata": {},
   "outputs": [],
   "source": [
    "import pandas as pd \n",
    "import numpy as np\n",
    "import pandasql as ps"
   ]
  },
  {
   "cell_type": "code",
   "execution_count": 87,
   "metadata": {},
   "outputs": [],
   "source": [
    "df = pd.read_csv(\"C:\\\\Users\\\\dhruv\\\\Downloads\\\\data.csv\") "
   ]
  },
  {
   "cell_type": "code",
   "execution_count": 88,
   "metadata": {},
   "outputs": [
    {
     "data": {
      "text/html": [
       "<div>\n",
       "<style scoped>\n",
       "    .dataframe tbody tr th:only-of-type {\n",
       "        vertical-align: middle;\n",
       "    }\n",
       "\n",
       "    .dataframe tbody tr th {\n",
       "        vertical-align: top;\n",
       "    }\n",
       "\n",
       "    .dataframe thead th {\n",
       "        text-align: right;\n",
       "    }\n",
       "</style>\n",
       "<table border=\"1\" class=\"dataframe\">\n",
       "  <thead>\n",
       "    <tr style=\"text-align: right;\">\n",
       "      <th></th>\n",
       "      <th>ID</th>\n",
       "      <th>NAME</th>\n",
       "      <th>CITY</th>\n",
       "      <th>COUNTRY</th>\n",
       "      <th>CPERSON</th>\n",
       "      <th>EMPLCNT</th>\n",
       "      <th>CONTRCNT</th>\n",
       "      <th>CONTRCOST</th>\n",
       "    </tr>\n",
       "  </thead>\n",
       "  <tbody>\n",
       "    <tr>\n",
       "      <th>0</th>\n",
       "      <td>1</td>\n",
       "      <td>Breadpot</td>\n",
       "      <td>Sydney</td>\n",
       "      <td>Australia</td>\n",
       "      <td>sample-email</td>\n",
       "      <td>20</td>\n",
       "      <td>100</td>\n",
       "      <td>100</td>\n",
       "    </tr>\n",
       "    <tr>\n",
       "      <th>1</th>\n",
       "      <td>2</td>\n",
       "      <td>Hoviz</td>\n",
       "      <td>Manchester</td>\n",
       "      <td>UK</td>\n",
       "      <td>sample-email</td>\n",
       "      <td>30</td>\n",
       "      <td>550</td>\n",
       "      <td>200</td>\n",
       "    </tr>\n",
       "    <tr>\n",
       "      <th>2</th>\n",
       "      <td>3</td>\n",
       "      <td>Hoviz</td>\n",
       "      <td>London</td>\n",
       "      <td>UK</td>\n",
       "      <td>sample-email</td>\n",
       "      <td>55</td>\n",
       "      <td>250</td>\n",
       "      <td>400</td>\n",
       "    </tr>\n",
       "    <tr>\n",
       "      <th>3</th>\n",
       "      <td>4</td>\n",
       "      <td>Grenns</td>\n",
       "      <td>London</td>\n",
       "      <td>UK</td>\n",
       "      <td>sample-email</td>\n",
       "      <td>40</td>\n",
       "      <td>250</td>\n",
       "      <td>600</td>\n",
       "    </tr>\n",
       "    <tr>\n",
       "      <th>4</th>\n",
       "      <td>5</td>\n",
       "      <td>Magnolia</td>\n",
       "      <td>Chicago</td>\n",
       "      <td>USA</td>\n",
       "      <td>sample-email</td>\n",
       "      <td>50</td>\n",
       "      <td>400</td>\n",
       "      <td>200</td>\n",
       "    </tr>\n",
       "  </tbody>\n",
       "</table>\n",
       "</div>"
      ],
      "text/plain": [
       "   ID       NAME         CITY     COUNTRY        CPERSON  EMPLCNT  CONTRCNT  \\\n",
       "0   1   Breadpot       Sydney   Australia   sample-email       20       100   \n",
       "1   2      Hoviz   Manchester          UK   sample-email       30       550   \n",
       "2   3      Hoviz       London          UK   sample-email       55       250   \n",
       "3   4     Grenns       London          UK   sample-email       40       250   \n",
       "4   5   Magnolia      Chicago         USA   sample-email       50       400   \n",
       "\n",
       "   CONTRCOST  \n",
       "0        100  \n",
       "1        200  \n",
       "2        400  \n",
       "3        600  \n",
       "4        200  "
      ]
     },
     "execution_count": 88,
     "metadata": {},
     "output_type": "execute_result"
    }
   ],
   "source": [
    "df.head(5)"
   ]
  },
  {
   "cell_type": "markdown",
   "metadata": {},
   "source": [
    "1. How many total customers are in this data set?\n"
   ]
  },
  {
   "cell_type": "code",
   "execution_count": 139,
   "metadata": {},
   "outputs": [
    {
     "name": "stdout",
     "output_type": "stream",
     "text": [
      "7\n"
     ]
    }
   ],
   "source": [
    "\n",
    "## Method 1 - Python\n",
    "\n",
    "\n",
    "total_customers = df['ID'].nunique()\n",
    "print(total_customers)\n"
   ]
  },
  {
   "cell_type": "code",
   "execution_count": 90,
   "metadata": {},
   "outputs": [
    {
     "name": "stdout",
     "output_type": "stream",
     "text": [
      "   total_customer_in_data\n",
      "0                       7\n"
     ]
    }
   ],
   "source": [
    "## Method 2 - SQL\n",
    "\n",
    "total_customers_sql = ps.sqldf('''select count(distinct id) as total_customer_in_data from df''')\n",
    "print(total_customers_sql)"
   ]
  },
  {
   "cell_type": "markdown",
   "metadata": {},
   "source": [
    "2. How many customers are in each city?"
   ]
  },
  {
   "cell_type": "code",
   "execution_count": 91,
   "metadata": {},
   "outputs": [
    {
     "name": "stdout",
     "output_type": "stream",
     "text": [
      "CITY\n",
      " Chicago          1\n",
      " Manchester       1\n",
      " Sydney           1\n",
      " London           2\n",
      " San Francisco    2\n",
      "Name: ID, dtype: int64\n"
     ]
    }
   ],
   "source": [
    "\n",
    "## Method 1 - Python\n",
    "\n",
    "customers_in_city = df.groupby('CITY')[\"ID\"].count().sort_values()\n",
    "\n",
    "print(customers_in_city)"
   ]
  },
  {
   "cell_type": "code",
   "execution_count": 94,
   "metadata": {},
   "outputs": [
    {
     "name": "stdout",
     "output_type": "stream",
     "text": [
      "             CITY  count(*)\n",
      "0         Chicago         1\n",
      "1      Manchester         1\n",
      "2          Sydney         1\n",
      "3          London         2\n",
      "4   San Francisco         2\n"
     ]
    }
   ],
   "source": [
    "## Method 2 - SQL\n",
    "\n",
    "customers_in_city_sql = ps.sqldf(''' select city, count(*) from df group by city order by 2 ''')\n",
    "print(customers_in_city_sql)"
   ]
  },
  {
   "cell_type": "markdown",
   "metadata": {},
   "source": [
    "3. How many customers are in each country?"
   ]
  },
  {
   "cell_type": "code",
   "execution_count": 95,
   "metadata": {},
   "outputs": [
    {
     "name": "stdout",
     "output_type": "stream",
     "text": [
      "COUNTRY\n",
      " Australia    1\n",
      " UK           3\n",
      " USA          3\n",
      "Name: ID, dtype: int64\n"
     ]
    }
   ],
   "source": [
    "\n",
    "## Method 1\n",
    "\n",
    "customers_in_country = df.groupby('COUNTRY')[\"ID\"].count().sort_values()\n",
    "\n",
    "print(customers_in_country)"
   ]
  },
  {
   "cell_type": "code",
   "execution_count": 96,
   "metadata": {},
   "outputs": [
    {
     "name": "stdout",
     "output_type": "stream",
     "text": [
      "      COUNTRY  count(*)\n",
      "0   Australia         1\n",
      "1          UK         3\n",
      "2         USA         3\n"
     ]
    }
   ],
   "source": [
    "## Method 2\n",
    "\n",
    "customers_in_country_sql = ps.sqldf(''' select country, count(*) from df group by country order by 2 ''')\n",
    "print(customers_in_country_sql)"
   ]
  },
  {
   "cell_type": "markdown",
   "metadata": {},
   "source": [
    "4. Which country has the largest number of customers' contracts signed in it?\n",
    "5. How many contracts does it have?"
   ]
  },
  {
   "cell_type": "code",
   "execution_count": 120,
   "metadata": {},
   "outputs": [
    {
     "name": "stdout",
     "output_type": "stream",
     "text": [
      "COUNTRY\n",
      " USA    1050\n",
      "Name: CONTRCNT, dtype: int64\n"
     ]
    }
   ],
   "source": [
    "\n",
    "## Method 1 - Python\n",
    "\n",
    "countries_contract = df[[\"COUNTRY\",\"CONTRCNT\"]].groupby('COUNTRY')['CONTRCNT'].sum().sort_values(ascending = False).head(1)\n",
    "\n",
    "\n",
    "\n",
    "print(countries_contract)"
   ]
  },
  {
   "cell_type": "code",
   "execution_count": 104,
   "metadata": {},
   "outputs": [
    {
     "name": "stdout",
     "output_type": "stream",
     "text": [
      "  COUNTRY  sum(CONTRCNT)\n",
      "0     USA           1050\n"
     ]
    }
   ],
   "source": [
    "## Method 2 - SQL\n",
    "\n",
    "countries_contract_sql = ps.sqldf(''' select COUNTRY, sum(CONTRCNT) from df group by 1 order by 2 desc limit 1''')\n",
    "print(countries_contract_sql)"
   ]
  },
  {
   "cell_type": "markdown",
   "metadata": {},
   "source": [
    "6. How many unique cities have at least one customer in them?"
   ]
  },
  {
   "cell_type": "code",
   "execution_count": 128,
   "metadata": {},
   "outputs": [
    {
     "name": "stdout",
     "output_type": "stream",
     "text": [
      "5\n"
     ]
    }
   ],
   "source": [
    "## How many unique cities have at least one customer in them?\n",
    "# Method 1\n",
    "\n",
    "unique_cities = df.groupby('CITY').ID.nunique().count()\n",
    "print(unique_cities)"
   ]
  },
  {
   "cell_type": "code",
   "execution_count": 136,
   "metadata": {},
   "outputs": [
    {
     "name": "stdout",
     "output_type": "stream",
     "text": [
      "   count(*)\n",
      "0         5\n"
     ]
    }
   ],
   "source": [
    "## Method 2\n",
    "\n",
    "unique_cities_sql = ps.sqldf('''select count(*) from (select count(distinct id) from df group by city)''')\n",
    "print(unique_cities_sql)"
   ]
  }
 ],
 "metadata": {
  "kernelspec": {
   "display_name": "Python 3",
   "language": "python",
   "name": "python3"
  },
  "language_info": {
   "codemirror_mode": {
    "name": "ipython",
    "version": 3
   },
   "file_extension": ".py",
   "mimetype": "text/x-python",
   "name": "python",
   "nbconvert_exporter": "python",
   "pygments_lexer": "ipython3",
   "version": "3.7.6"
  }
 },
 "nbformat": 4,
 "nbformat_minor": 4
}
